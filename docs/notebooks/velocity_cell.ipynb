{
 "cells": [
  {
   "cell_type": "code",
   "execution_count": 1,
   "metadata": {},
   "outputs": [],
   "source": [
    "%matplotlib inline \n",
    "\n",
    "import numpy as np \n",
    "import matplotlib.pyplot as plt \n",
    "\n",
    "import jax \n",
    "import jax_cosmo as jc\n",
    "import jax.numpy as jnp"
   ]
  },
  {
   "cell_type": "code",
   "execution_count": 2,
   "metadata": {},
   "outputs": [],
   "source": [
    "# Cosmology \n",
    "cosmo_jax = jc.Cosmology(Omega_c=0.3, Omega_b=0.05, h=0.7, sigma8 = 0.8, n_s=0.96,\n",
    "         Omega_k=0., w0=-1., wa=0.)"
   ]
  },
  {
   "cell_type": "code",
   "execution_count": 3,
   "metadata": {},
   "outputs": [],
   "source": [
    "# Redshift range\n",
    "zmin = 0.0\n",
    "zmax = 4.\n",
    "zstep = 1024\n",
    "zvec = np.linspace(zmin, zmax, zstep)\n",
    "\n",
    "# Smail Parameters\n",
    "a_smail= 1.\n",
    "b_smail = 2.\n",
    "z0_smail = 1.0\n",
    "\n",
    "# Scale factor \n",
    "a = 1 / (1+zvec)\n",
    "\n",
    "# Ell range \n",
    "ell_range = np.arange(1, 1e3)\n",
    "ell_value_test = 10"
   ]
  },
  {
   "cell_type": "code",
   "execution_count": 8,
   "metadata": {},
   "outputs": [],
   "source": [
    "# Redshift distribution \n",
    "nz = jc.redshift.smail_nz(a_smail, b_smail, z0_smail)\n",
    "bias_jax = jc.bias.constant_linear_bias(1.)\n",
    "\n",
    "# Velocity Tracer \n",
    "velocity_tracer = jc.probes.PeculiarVelocity([nz])\n",
    "\n",
    "# Velocity Kernel \n",
    "velocity_kernel = jc.probes.velocity_kernel(cosmo_jax, [nz], zvec, ell_value_test)\n",
    "\n",
    "# Velocity Cell - with Limber approximation"
   ]
  },
  {
   "cell_type": "code",
   "execution_count": 11,
   "metadata": {},
   "outputs": [
    {
     "ename": "TypeError",
     "evalue": "'list' object is not callable",
     "output_type": "error",
     "traceback": [
      "\u001b[0;31m---------------------------------------------------------------------------\u001b[0m",
      "\u001b[0;31mTypeError\u001b[0m                                 Traceback (most recent call last)",
      "Cell \u001b[0;32mIn[11], line 1\u001b[0m\n\u001b[0;32m----> 1\u001b[0m \u001b[43mvelocity_tracer\u001b[49m\u001b[38;5;241;43m.\u001b[39;49m\u001b[43mkernel\u001b[49m\u001b[43m(\u001b[49m\u001b[43mcosmo_jax\u001b[49m\u001b[43m,\u001b[49m\u001b[43m \u001b[49m\u001b[43mzvec\u001b[49m\u001b[43m,\u001b[49m\u001b[43m \u001b[49m\u001b[43mell_value_test\u001b[49m\u001b[43m)\u001b[49m\n",
      "File \u001b[0;32m~/Documents/lib/python/jax_cosmo/jax_cosmo/probes.py:340\u001b[0m, in \u001b[0;36mPeculiarVelocity.kernel\u001b[0;34m(self, cosmo, z, ell)\u001b[0m\n\u001b[1;32m    338\u001b[0m pzs \u001b[38;5;241m=\u001b[39m \u001b[38;5;28mself\u001b[39m\u001b[38;5;241m.\u001b[39mparams\n\u001b[1;32m    339\u001b[0m \u001b[38;5;66;03m# Retrieve velocity kernel\u001b[39;00m\n\u001b[0;32m--> 340\u001b[0m kernel \u001b[38;5;241m=\u001b[39m \u001b[43mvelocity_kernel\u001b[49m\u001b[43m(\u001b[49m\u001b[43mcosmo\u001b[49m\u001b[43m,\u001b[49m\u001b[43m \u001b[49m\u001b[43mpzs\u001b[49m\u001b[43m,\u001b[49m\u001b[43m \u001b[49m\u001b[43mz\u001b[49m\u001b[43m,\u001b[49m\u001b[43m \u001b[49m\u001b[43mell\u001b[49m\u001b[43m)\u001b[49m\n\u001b[1;32m    341\u001b[0m \u001b[38;5;28;01mreturn\u001b[39;00m kernel\n",
      "    \u001b[0;31m[... skipping hidden 12 frame]\u001b[0m\n",
      "File \u001b[0;32m~/Documents/lib/python/jax_cosmo/jax_cosmo/probes.py:113\u001b[0m, in \u001b[0;36mvelocity_kernel\u001b[0;34m(cosmo, pzs, z, ell)\u001b[0m\n\u001b[1;32m    109\u001b[0m     \u001b[38;5;28;01mraise\u001b[39;00m \u001b[38;5;167;01mNotImplementedError\u001b[39;00m(\n\u001b[1;32m    110\u001b[0m         \u001b[38;5;124m\"\u001b[39m\u001b[38;5;124mVelocity kernel not properly implemented for delta redshift distributions\u001b[39m\u001b[38;5;124m\"\u001b[39m\n\u001b[1;32m    111\u001b[0m     )\n\u001b[1;32m    112\u001b[0m \u001b[38;5;66;03m# Stack the dndz of all redshift bins\u001b[39;00m\n\u001b[0;32m--> 113\u001b[0m dndz \u001b[38;5;241m=\u001b[39m np\u001b[38;5;241m.\u001b[39mstack(\u001b[43m[\u001b[49m\u001b[43mpz\u001b[49m\u001b[43m(\u001b[49m\u001b[43mz\u001b[49m\u001b[43m)\u001b[49m\u001b[43m \u001b[49m\u001b[38;5;28;43;01mfor\u001b[39;49;00m\u001b[43m \u001b[49m\u001b[43mpz\u001b[49m\u001b[43m \u001b[49m\u001b[38;5;129;43;01min\u001b[39;49;00m\u001b[43m \u001b[49m\u001b[43mpzs\u001b[49m\u001b[43m]\u001b[49m, axis\u001b[38;5;241m=\u001b[39m\u001b[38;5;241m0\u001b[39m)\n\u001b[1;32m    115\u001b[0m radial_kernel \u001b[38;5;241m=\u001b[39m dndz \u001b[38;5;241m*\u001b[39m z2a(z) \u001b[38;5;241m*\u001b[39m bkgrd\u001b[38;5;241m.\u001b[39mH(cosmo, z2a(z)) \u001b[38;5;241m*\u001b[39m bkgrd\u001b[38;5;241m.\u001b[39mgrowth_rate(cosmo, z2a(z))\n\u001b[1;32m    117\u001b[0m \u001b[38;5;66;03m#return radial_kernel\u001b[39;00m\n",
      "File \u001b[0;32m~/Documents/lib/python/jax_cosmo/jax_cosmo/probes.py:113\u001b[0m, in \u001b[0;36m<listcomp>\u001b[0;34m(.0)\u001b[0m\n\u001b[1;32m    109\u001b[0m     \u001b[38;5;28;01mraise\u001b[39;00m \u001b[38;5;167;01mNotImplementedError\u001b[39;00m(\n\u001b[1;32m    110\u001b[0m         \u001b[38;5;124m\"\u001b[39m\u001b[38;5;124mVelocity kernel not properly implemented for delta redshift distributions\u001b[39m\u001b[38;5;124m\"\u001b[39m\n\u001b[1;32m    111\u001b[0m     )\n\u001b[1;32m    112\u001b[0m \u001b[38;5;66;03m# Stack the dndz of all redshift bins\u001b[39;00m\n\u001b[0;32m--> 113\u001b[0m dndz \u001b[38;5;241m=\u001b[39m np\u001b[38;5;241m.\u001b[39mstack([\u001b[43mpz\u001b[49m\u001b[43m(\u001b[49m\u001b[43mz\u001b[49m\u001b[43m)\u001b[49m \u001b[38;5;28;01mfor\u001b[39;00m pz \u001b[38;5;129;01min\u001b[39;00m pzs], axis\u001b[38;5;241m=\u001b[39m\u001b[38;5;241m0\u001b[39m)\n\u001b[1;32m    115\u001b[0m radial_kernel \u001b[38;5;241m=\u001b[39m dndz \u001b[38;5;241m*\u001b[39m z2a(z) \u001b[38;5;241m*\u001b[39m bkgrd\u001b[38;5;241m.\u001b[39mH(cosmo, z2a(z)) \u001b[38;5;241m*\u001b[39m bkgrd\u001b[38;5;241m.\u001b[39mgrowth_rate(cosmo, z2a(z))\n\u001b[1;32m    117\u001b[0m \u001b[38;5;66;03m#return radial_kernel\u001b[39;00m\n",
      "\u001b[0;31mTypeError\u001b[0m: 'list' object is not callable"
     ]
    }
   ],
   "source": [
    "velocity_tracer.kernel(cosmo_jax, zvec, ell_value_test)"
   ]
  },
  {
   "cell_type": "code",
   "execution_count": null,
   "metadata": {},
   "outputs": [],
   "source": [
    "# Velocity Kernel Plot - Withot the operations inside angular_cl.py \n",
    "plt.title('Velocity Kernel')\n",
    "plt.plot(a, velocity_kernel[0], color='indigo')\n",
    "plt.xlabel('Scale factor $a$');"
   ]
  }
 ],
 "metadata": {
  "kernelspec": {
   "display_name": "firecrown_developer",
   "language": "python",
   "name": "python3"
  },
  "language_info": {
   "codemirror_mode": {
    "name": "ipython",
    "version": 3
   },
   "file_extension": ".py",
   "mimetype": "text/x-python",
   "name": "python",
   "nbconvert_exporter": "python",
   "pygments_lexer": "ipython3",
   "version": "3.11.6"
  }
 },
 "nbformat": 4,
 "nbformat_minor": 2
}
