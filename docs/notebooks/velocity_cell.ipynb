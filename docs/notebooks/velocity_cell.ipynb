{
 "cells": [
  {
   "cell_type": "code",
   "execution_count": 163,
   "metadata": {},
   "outputs": [
    {
     "name": "stdout",
     "output_type": "stream",
     "text": [
      "The autoreload extension is already loaded. To reload it, use:\n",
      "  %reload_ext autoreload\n"
     ]
    }
   ],
   "source": [
    "%matplotlib inline \n",
    "%load_ext autoreload\n",
    "%autoreload 2\n",
    "\n",
    "import numpy as np\n",
    "import scipy as sp\n",
    "import matplotlib.pyplot as plt\n",
    "import pandas as pd \n",
    "\n",
    "import jax \n",
    "import jax_cosmo as jc \n",
    "import jax.numpy as jnp\n",
    "from jax_cosmo.scipy.integrate import simps\n",
    "\n",
    "import pyccl as ccl\n"
   ]
  },
  {
   "cell_type": "code",
   "execution_count": 164,
   "metadata": {},
   "outputs": [],
   "source": [
    "# Cosmology \n",
    "cosmo = jc.Cosmology(Omega_c=0.238, Omega_b=0.047, h=0.7, sigma8 = 0.8, n_s=0.96,\n",
    "         Omega_k=0., w0=-1., wa=0.)\n",
    "\n",
    "cosmo_ccl = ccl.Cosmology(Omega_c=0.238, Omega_b=0.047, h=0.7, n_s=0.96, sigma8=0.8,\n",
    "        Neff=0, transfer_function=\"eisenstein_hu\", matter_power_spectrum=\"halofit\")\n",
    "\n",
    "# Constants \n",
    "c = jc.constants.c\n",
    "H0 = jc.constants.H0 * cosmo.h"
   ]
  },
  {
   "cell_type": "code",
   "execution_count": 165,
   "metadata": {},
   "outputs": [],
   "source": [
    "# Ranges \n",
    "ellvec = np.linspace(1, 500, 500).astype(int)\n",
    "kvec = np.logspace(-4, np.log10(4), 2000)\n",
    "zvec = np.linspace(0.0, 0.65, 1000)\n",
    "avec = 1/(1+zvec)\n",
    "\n",
    "# Smail parameters (smail) - Blazek+2019\n",
    "n_smail = 5.42e+5\n",
    "a_smail = 1.12e+00\n",
    "b_smail = 3.41e+00\n",
    "z0_smail = 4.070e-1"
   ]
  },
  {
   "cell_type": "code",
   "execution_count": null,
   "metadata": {},
   "outputs": [],
   "source": [
    "# Redshift distribution\n",
    "nzvec = jc.redshift.smail_nz(a_smail, b_smail, z0_smail)\n",
    "\n",
    "# Velocity Tracer \n",
    "tracer_vv = jc.probes.PeculiarVelocity([nzvec])\n",
    "\n",
    "# Velocity Window Function\n",
    "window_vv = tracer_vv.kernel(cosmo, zvec, ellvec)"
   ]
  },
  {
   "cell_type": "markdown",
   "metadata": {},
   "source": [
    "### Limber "
   ]
  },
  {
   "cell_type": "code",
   "execution_count": null,
   "metadata": {},
   "outputs": [],
   "source": [
    "cl_limber = jc.angular_cl.angular_cl(cosmo, ellvec, [tracer_vv])"
   ]
  },
  {
   "cell_type": "code",
   "execution_count": null,
   "metadata": {},
   "outputs": [],
   "source": [
    "plt.plot(ellvec, cl_limber[0], color='darkorange', label='Limber')\n",
    "plt.loglog()\n",
    "plt.ylabel('$C_{\\ell}^{vv}$')\n",
    "plt.xlabel('$\\ell$')\n",
    "plt.grid()\n",
    "plt.legend();\n"
   ]
  },
  {
   "cell_type": "markdown",
   "metadata": {},
   "source": [
    "### Non-Limber "
   ]
  },
  {
   "cell_type": "code",
   "execution_count": 166,
   "metadata": {},
   "outputs": [],
   "source": [
    "def smail_distribution(z, n, a, b, z0, normed=False):\n",
    "    '''Add information about what this function does and the parameters'''\n",
    "    dndz = n * (z**a) * np.exp(-(z/z0)**b)\n",
    "    \n",
    "    if normed:\n",
    "        dndz = dndz / sp.integrate.simps(dndz, z)\n",
    "    \n",
    "    return dndz\n",
    "\n",
    "def velocity_window(cosmo, a, dndz, H0, normed): \n",
    "    # Redshift \n",
    "    zvec = 1/a -1 \n",
    "    \n",
    "    # Hubble Parameter \n",
    "    H_z = jc.background.H(cosmo, a)\n",
    "\n",
    "    # Growth rate \n",
    "    f = jc.background.growth_rate(cosmo, a)\n",
    "\n",
    "    kernel = a * H_z * f * dndz\n",
    "\n",
    "    if normed:\n",
    "        integral = sp.integrate.simps(kernel, zvec)\n",
    "        kernel = kernel/integral \n",
    "\n",
    "    return kernel\n",
    "\n",
    "def velocity_kernel_integrand(chi, ell, k, window):\n",
    "\n",
    "    j_prime = sp.special.spherical_jn(ell, np.outer(k, chi), derivative=True)\n",
    "    window = sp.interpolate.splev(chi, window, ext=0)\n",
    "\n",
    "    return  window * j_prime\n",
    "\n",
    "def cell_integrand(k, window1, window2):\n",
    "\n",
    "    pk = ccl.nonlin_matter_power(cosmo_ccl, k*cosmo.h, 1.0)*cosmo.h**3\n",
    "    #pk = jc.power.nonlinear_matter_power(cosmo, k, 1.0, transfer_fn=jc.transfer.Eisenstein_Hu, nonlinear_fn=jc.power.halofit)\n",
    "    window1 = sp.interpolate.splev(k, window1, ext=0)\n",
    "    window2 = sp.interpolate.splev(k, window2, ext=0)\n",
    "\n",
    "    return window1 * window2 * pk \n",
    "\n",
    "def velocity_cl(chi, window_chi, ks, ells, output_file_path):\n",
    "\n",
    "    cl_vv = np.zeros(len(ells))\n",
    "\n",
    "    for i, ell in enumerate(ells):\n",
    "        velocity_kernel = np.zeros(len(ks))\n",
    "        for k, kval in enumerate(ks):\n",
    "            velocity_kernel[k] = sp.integrate.quad(velocity_kernel_integrand, chi[0], chi[-1], args=(ell, kval, window_chi), limit=5000, epsrel=1e-6, epsabs=1e-12)[0]\n",
    "        velocity_kernel_spline = sp.interpolate.splrep(ks, velocity_kernel)\n",
    "        cl_vv[i] = (2/np.pi) * sp.integrate.quad(cell_integrand, ks[0], ks[-1], args=(velocity_kernel_spline, velocity_kernel_spline), limit=5000, epsrel=1e-6, epsabs=1e-12)[0]\n",
    "        print(ell, cl_vv[i]) \n",
    "        #break\n",
    "    \n",
    "    np.savetxt(output_file_path, cl_vv, fmt=\"%g\", header=\"Cl_uu\")\n",
    "    return cl_vv\n"
   ]
  },
  {
   "cell_type": "code",
   "execution_count": 167,
   "metadata": {},
   "outputs": [
    {
     "name": "stderr",
     "output_type": "stream",
     "text": [
      "/Users/joaopedrobonifacio/anaconda3/envs/firecrown_developer/lib/python3.11/site-packages/jax/_src/numpy/array_methods.py:733: UserWarning: Explicitly requested dtype <class 'jax.numpy.int64'> requested in astype is not available, and will be truncated to dtype int32. To enable more dtypes, set the jax_enable_x64 configuration option or the JAX_ENABLE_X64 shell environment variable. See https://github.com/google/jax#current-gotchas for more.\n",
      "  return getattr(self.aval, name).fun(self, *args, **kwargs)\n"
     ]
    }
   ],
   "source": [
    "file_path = '/Users/joaopedrobonifacio/Documents/lib/python/jax_cosmo/notebooks/cl_non_limber_blazek.csv'\n",
    "\n",
    "chi = jc.background.radial_comoving_distance(cosmo, avec)\n",
    "dndz = smail_distribution(zvec, n_smail, a_smail, b_smail, z0_smail, normed=False)\n",
    "window_z = velocity_window(cosmo, avec, dndz, H0, normed=False)\n",
    "\n",
    "window_chi = sp.interpolate.splrep(chi, window_z * jc.background.growth_factor(cosmo, avec) * jc.background.H(cosmo, avec) / c / (zvec[1] - zvec[0]) / np.sum(dndz))"
   ]
  },
  {
   "cell_type": "code",
   "execution_count": null,
   "metadata": {},
   "outputs": [],
   "source": [
    "# Calculating the Cell_uu\n",
    "cl_non_limber = velocity_cl(chi, window_chi, kvec, ellvec, file_path)"
   ]
  },
  {
   "cell_type": "code",
   "execution_count": 168,
   "metadata": {},
   "outputs": [],
   "source": [
    "cl_non_limber = pd.read_csv('/Users/joaopedrobonifacio/Documents/lib/python/jax_cosmo/notebooks/cl_vv_non_limber_blazek.csv')\n",
    "cl_non_limber = cl_non_limber['# Cl_uu'].values"
   ]
  },
  {
   "cell_type": "code",
   "execution_count": 169,
   "metadata": {},
   "outputs": [
    {
     "data": {
      "image/png": "[encoded data removed]",
      "text/plain": [
       "<Figure size 640x480 with 1 Axes>"
      ]
     },
     "metadata": {},
     "output_type": "display_data"
    }
   ],
   "source": [
    "plt.plot(ellvec, cl_non_limber*(ellvec**3/c**2), color='indigo', label='Non-Limber')\n",
    "plt.loglog()\n",
    "plt.ylabel('$C_{\\ell}^{vv}$')\n",
    "plt.xlabel('$\\ell$')\n",
    "plt.grid()\n",
    "plt.legend();"
   ]
  },
  {
   "cell_type": "markdown",
   "metadata": {},
   "source": [
    "### Comprison between Limber and Non-Limber"
   ]
  },
  {
   "cell_type": "code",
   "execution_count": null,
   "metadata": {},
   "outputs": [],
   "source": [
    "plt.plot(ellvec, cl_non_limber*(ellvec**3/c**2), color='indigo', label='Non-Limber')\n",
    "plt.plot(ellvec, cl_limber[0], color='darkorange', label='Limber')\n",
    "plt.loglog()\n",
    "plt.ylabel('$C_{\\ell}^{vv}$')\n",
    "plt.xlabel('$\\ell$')\n",
    "plt.grid()\n",
    "plt.legend();"
   ]
  },
  {
   "cell_type": "code",
   "execution_count": null,
   "metadata": {},
   "outputs": [],
   "source": []
  }
 ],
 "metadata": {
  "kernelspec": {
   "display_name": "firecrown_developer",
   "language": "python",
   "name": "python3"
  },
  "language_info": {
   "codemirror_mode": {
    "name": "ipython",
    "version": 3
   },
   "file_extension": ".py",
   "mimetype": "text/x-python",
   "name": "python",
   "nbconvert_exporter": "python",
   "pygments_lexer": "ipython3",
   "version": "3.11.6"
  }
 },
 "nbformat": 4,
 "nbformat_minor": 2
}
