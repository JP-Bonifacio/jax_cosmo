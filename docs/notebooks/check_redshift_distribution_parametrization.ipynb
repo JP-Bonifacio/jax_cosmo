{
 "cells": [
  {
   "cell_type": "markdown",
   "id": "98fcf7df",
   "metadata": {},
   "source": [
    "# Next tasks\n",
    "\n",
    "1. Fit SNIa dndz points to two-parameter smail nz distribution.\n",
    "    1. Check visually if the fit is good\n",
    "    1. Plot the relative percent difference \n",
    "1. dsfsdfs"
   ]
  },
  {
   "cell_type": "markdown",
   "id": "ed2647d5",
   "metadata": {},
   "source": []
  }
 ],
 "metadata": {
  "language_info": {
   "name": "python"
  }
 },
 "nbformat": 4,
 "nbformat_minor": 5
}
